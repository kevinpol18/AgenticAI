{
 "cells": [
  {
   "cell_type": "markdown",
   "id": "6fdd0bcb",
   "metadata": {},
   "source": [
    "# [STARTER] Udaplay Project"
   ]
  },
  {
   "cell_type": "markdown",
   "id": "9325b035",
   "metadata": {},
   "source": [
    "## Part 02 - Agent\n",
    "\n",
    "In this part of the project, you'll use your VectorDB to be part of your Agent as a tool.\n",
    "\n",
    "You're building UdaPlay, an AI Research Agent for the video game industry. The agent will:\n",
    "1. Answer questions using internal knowledge (RAG)\n",
    "2. Search the web when needed\n",
    "3. Maintain conversation state\n",
    "4. Return structured outputs\n",
    "5. Store useful information for future use"
   ]
  },
  {
   "cell_type": "markdown",
   "id": "2b42de90",
   "metadata": {},
   "source": [
    "### Setup"
   ]
  },
  {
   "cell_type": "code",
   "execution_count": 17,
   "id": "a963d4ca",
   "metadata": {},
   "outputs": [],
   "source": [
    "# Only needed for Udacity workspace\n",
    "\n",
    "import importlib.util\n",
    "import sys\n",
    "\n",
    "# Check if 'pysqlite3' is available before importing\n",
    "if importlib.util.find_spec(\"pysqlite3\") is not None:\n",
    "    import pysqlite3\n",
    "    sys.modules['sqlite3'] = sys.modules.pop('pysqlite3')"
   ]
  },
  {
   "cell_type": "code",
   "execution_count": 18,
   "id": "fd10c06e",
   "metadata": {},
   "outputs": [],
   "source": [
    "# Import the necessary libs\n",
    "import os\n",
    "import chromadb\n",
    "from chromadb.utils import embedding_functions\n",
    "from lib.agents import Agent\n",
    "from lib.llm import LLM\n",
    "from lib.messages import UserMessage, SystemMessage, ToolMessage, AIMessage\n",
    "from lib.tooling import tool\n",
    "from dotenv import load_dotenv\n",
    "from typing import List, Optional, Dict, Any\n",
    "from tavily import TavilyClient\n",
    "from datetime import datetime\n",
    "from lib.messages import BaseMessage"
   ]
  },
  {
   "cell_type": "code",
   "execution_count": 19,
   "id": "87e465d4",
   "metadata": {},
   "outputs": [],
   "source": [
    "# Load environment variables\n",
    "load_dotenv()\n",
    "\n",
    "OPENAI_API_KEY = os.getenv(\"OPENAI_API_KEY\")\n",
    "TAVILY_API_KEY = os.getenv(\"TAVILY_API_KEY\")"
   ]
  },
  {
   "cell_type": "code",
   "execution_count": 20,
   "id": "45763cac",
   "metadata": {},
   "outputs": [],
   "source": [
    "tavily_client = TavilyClient(api_key=TAVILY_API_KEY)"
   ]
  },
  {
   "cell_type": "markdown",
   "id": "27de4729",
   "metadata": {},
   "source": [
    "### Tools"
   ]
  },
  {
   "cell_type": "markdown",
   "id": "46ab2dac",
   "metadata": {},
   "source": [
    "Build at least 3 tools:\n",
    "- retrieve_game: To search the vector DB\n",
    "- evaluate_retrieval: To assess the retrieval performance\n",
    "- game_web_search: If no good, search the web\n"
   ]
  },
  {
   "cell_type": "markdown",
   "id": "ce4f14cd",
   "metadata": {},
   "source": [
    "#### Retrieve Game Tool"
   ]
  },
  {
   "cell_type": "code",
   "execution_count": 21,
   "id": "1b33b1a4",
   "metadata": {},
   "outputs": [],
   "source": [
    "chroma_client = chromadb.PersistentClient(path=\"chromadb\")\n",
    "embedding_fn = embedding_functions.OpenAIEmbeddingFunction(api_base=\"https://openai.vocareum.com/v1\",api_key=OPENAI_API_KEY)\n",
    "collection = chroma_client.get_collection(\"udaplay\", embedding_function=embedding_fn)"
   ]
  },
  {
   "cell_type": "code",
   "execution_count": null,
   "id": "b25c36dd",
   "metadata": {},
   "outputs": [],
   "source": [
    "@tool\n",
    "def retrieve_game(query: str, n_results: int = 5):\n",
    "    \"\"\"\n",
    "    Perform semantic search query and return list of game info dicts.\n",
    "\n",
    "    Args:\n",
    "        query (str): Query string about the game industry.\n",
    "        n_results (int): Number of top results to return.\n",
    "\n",
    "    Returns:\n",
    "        List[dict]: List of games where each dict contains:\n",
    "            - Platform\n",
    "            - Name\n",
    "            - YearOfRelease\n",
    "            - Description\n",
    "    \"\"\"\n",
    "    # Ensure single query wrapped in list\n",
    "    query_texts = [query]\n",
    "\n",
    "    results = collection.query(\n",
    "        query_texts=query_texts,\n",
    "        n_results=n_results,\n",
    "        include=['documents', 'distances', 'metadatas']\n",
    "    )\n",
    "\n",
    "    # Extract the first (and only) query results sublists\n",
    "    metadatas = results.get('metadatas', [[]])[0]\n",
    "\n",
    "    # Build the list of game dictionaries with requested fields\n",
    "    games = []\n",
    "    for metadata in metadatas:\n",
    "        game_info = {\n",
    "            \"Platform\": metadata.get(\"Platform\"),\n",
    "            \"Name\": metadata.get(\"Name\"),\n",
    "            \"YearOfRelease\": metadata.get(\"YearOfRelease\"),\n",
    "            \"Description\": metadata.get(\"Description\")\n",
    "        }\n",
    "        games.append(game_info)\n",
    "\n",
    "    return games"
   ]
  },
  {
   "attachments": {},
   "cell_type": "markdown",
   "id": "6708b855",
   "metadata": {},
   "source": [
    "#### Testing the retrieve_game tool"
   ]
  },
  {
   "cell_type": "code",
   "execution_count": 23,
   "id": "ec0298d7",
   "metadata": {},
   "outputs": [],
   "source": [
    "results = retrieve_game.__call__(query=\"Best RPG games on Game Boy\", n_results=3)"
   ]
  },
  {
   "cell_type": "code",
   "execution_count": 24,
   "id": "75c39ef7",
   "metadata": {},
   "outputs": [
    {
     "data": {
      "text/plain": [
       "[{'Platform': 'Game Boy Color',\n",
       "  'Name': 'Pokémon Gold and Silver',\n",
       "  'YearOfRelease': 1999,\n",
       "  'Description': 'Second-generation Pokémon games introducing new regions, Pokémon, and gameplay mechanics.'},\n",
       " {'Platform': 'Game Boy Advance',\n",
       "  'Name': 'Pokémon Ruby and Sapphire',\n",
       "  'YearOfRelease': 2002,\n",
       "  'Description': 'Third-generation Pokémon games set in the Hoenn region, featuring new Pokémon and double battles.'},\n",
       " {'Platform': 'Nintendo 64',\n",
       "  'Name': 'Super Mario 64',\n",
       "  'YearOfRelease': 1996,\n",
       "  'Description': \"A groundbreaking 3D platformer that set new standards for the genre, featuring Mario's quest to rescue Princess Peach.\"}]"
      ]
     },
     "execution_count": 24,
     "metadata": {},
     "output_type": "execute_result"
    }
   ],
   "source": [
    "results"
   ]
  },
  {
   "cell_type": "markdown",
   "id": "910dc945",
   "metadata": {},
   "source": [
    "#### Evaluate Retrieval Tool"
   ]
  },
  {
   "cell_type": "code",
   "execution_count": 25,
   "id": "193ab0bd",
   "metadata": {},
   "outputs": [],
   "source": [
    "from pydantic import BaseModel, Field\n",
    "from lib.llm import LLM\n",
    "from lib.parsers import PydanticOutputParser"
   ]
  },
  {
   "cell_type": "code",
   "execution_count": 26,
   "id": "8cb2ade7",
   "metadata": {},
   "outputs": [],
   "source": [
    "llm = LLM(model = \"gpt-4o\", base_url=\"https://openai.vocareum.com/v1\",api_key=OPENAI_API_KEY)"
   ]
  },
  {
   "cell_type": "code",
   "execution_count": 27,
   "id": "36408a82",
   "metadata": {},
   "outputs": [],
   "source": [
    "class EvaluationReport(BaseModel):\n",
    "    useful: bool = Field(description=\"Whether the documents are useful to answer the question\")\n",
    "    description: str = Field(description=\"Detailed explanation about the evaluation result\")"
   ]
  },
  {
   "cell_type": "code",
   "execution_count": 28,
   "id": "4d86b0d1",
   "metadata": {},
   "outputs": [],
   "source": [
    "class RetrievalEvaluator:\n",
    "    \"\"\"\n",
    "    Tool to evaluate if retrieved documents are sufficient to answer the query.\n",
    "    Uses an LLM as a judge with structured output parsing.\n",
    "    \"\"\"\n",
    "\n",
    "    def __init__(self, llm):\n",
    "        self.llm = llm\n",
    "        self.parser = PydanticOutputParser(model_class=EvaluationReport)\n",
    "\n",
    "    def evaluate_retrieval(self, question: str, retrieved_docs: list[str]) -> EvaluationReport:\n",
    "        \"\"\"\n",
    "        Evaluate the usability of retrieved documents for answering the question.\n",
    "\n",
    "        Args:\n",
    "            question (str): Original user question.\n",
    "            retrieved_docs (list[str]): List of retrieved documents (texts).\n",
    "\n",
    "        Returns:\n",
    "            EvaluationReport: Structured evaluation with usefulness and explanation.\n",
    "        \"\"\"\n",
    "\n",
    "        # Compose prompt to instruct the LLM judge\n",
    "        prompt = f\"\"\"\n",
    "        Your task is to evaluate if the documents are enough to respond to the query.\n",
    "\n",
    "        User Query:\n",
    "        {question}\n",
    "\n",
    "        Retrieved Documents:\n",
    "        {chr(10).join(f\"- {doc}\" for doc in retrieved_docs)}\n",
    "\n",
    "        Please answer in JSON format with the following fields:\n",
    "        - useful: true if the documents are sufficient to answer the question, false otherwise\n",
    "        - description: provide a detailed explanation to justify your assessment, so that it is possible to decide whether to accept or reject these documents for answering the query.\n",
    "        \"\"\"\n",
    "\n",
    "        # Invoke LLM with prompt, asking for structured output\n",
    "        response = self.llm.invoke(input=prompt, response_format=EvaluationReport)\n",
    "\n",
    "        # Parse the LLM response into EvaluationReport, with fallback for errors\n",
    "        try:\n",
    "            evaluation = self.parser.parse(response)\n",
    "        except Exception as e:\n",
    "            # Fallback: if parsing fails, return a default negative evaluation with explanation\n",
    "            evaluation = EvaluationReport(\n",
    "                useful=False,\n",
    "                description=f\"Failed to parse LLM evaluation response: {e}. Raw response: {response.content}\"\n",
    "            )\n",
    "\n",
    "        return evaluation"
   ]
  },
  {
   "cell_type": "code",
   "execution_count": null,
   "id": "0d9d014b",
   "metadata": {},
   "outputs": [],
   "source": [
    "@tool\n",
    "def evaluate_retrieval(question: str, retrieved_docs: list[str]) -> dict:\n",
    "    \"\"\"\n",
    "    Based on the user's question and the list of retrieved documents,\n",
    "    analyze the usability of the documents to respond to that question.\n",
    "\n",
    "    Args:\n",
    "        question (str): Original user question.\n",
    "        retrieved_docs (list[str]): Retrieved documents most similar to the user query.\n",
    "\n",
    "    Returns:\n",
    "        dict: {\n",
    "            \"useful\": bool,           # Whether the documents are useful to answer the question\n",
    "            \"description\": str        # Detailed explanation about the evaluation result\n",
    "        }\n",
    "    \"\"\"\n",
    "    evaluator = RetrievalEvaluator(llm)\n",
    "\n",
    "    evaluation_report = evaluator.evaluate_retrieval(question, retrieved_docs)\n",
    "\n",
    "    # Convert EvaluationReport Pydantic model to dict and return relevant fields\n",
    "    return {\n",
    "        \"useful\": evaluation_report.useful,\n",
    "        \"description\": evaluation_report.description\n",
    "    }\n",
    "\n"
   ]
  },
  {
   "attachments": {},
   "cell_type": "markdown",
   "id": "da195b8a",
   "metadata": {},
   "source": [
    "#### Testing the evaluate retrieval tool"
   ]
  },
  {
   "cell_type": "code",
   "execution_count": 30,
   "id": "2b870e56",
   "metadata": {},
   "outputs": [],
   "source": [
    "sample_question = \"What are the most popular RPG games on Game Boy?\"\n",
    "sample_docs = [\n",
    "    \"[Game Boy Color] Pokémon Gold and Silver (1999) - Second-generation Pokémon games introducing new regions, Pokémon, and gameplay mechanics.\",\n",
    "    \"[Game Boy Advance] Pokémon Ruby and Sapphire (2002) - Third-generation Pokémon games set in the Hoenn region, featuring new Pokémon and double battles.\"\n",
    "]\n",
    "\n",
    "report = evaluate_retrieval.__call__(sample_question, sample_docs)"
   ]
  },
  {
   "cell_type": "code",
   "execution_count": 31,
   "id": "2218ba23",
   "metadata": {},
   "outputs": [
    {
     "name": "stdout",
     "output_type": "stream",
     "text": [
      "{'useful': False, 'description': \"The retrieved documents focus on Pokémon games, specifically Pokémon Gold and Silver for the Game Boy Color and Pokémon Ruby and Sapphire for the Game Boy Advance. While Pokémon games are indeed popular RPGs on the Game Boy platform, the query asks for the most popular RPG games on the Game Boy, which includes both the original Game Boy and Game Boy Color. \\n\\nThe documents do not provide a comprehensive list or mention other popular RPGs that were available on the original Game Boy, such as:\\n\\n1. **Final Fantasy Legend Series**: Known as the SaGa series in Japan, these games were among the first RPGs available on the Game Boy and were quite popular.\\n2. **The Legend of Zelda: Link's Awakening**: Although more of an action-adventure game, it is often included in discussions about RPGs due to its gameplay style.\\n3. **Dragon Warrior Monsters**: A spin-off of the Dragon Quest series, this game was well-received and popular among RPG fans.\\n\\nThe documents are limited in scope and do not provide a broad view of the RPG landscape on the Game Boy, thus they are not sufficient to fully answer the query about the most popular RPG games on the Game Boy.\"}\n"
     ]
    }
   ],
   "source": [
    "print(report)"
   ]
  },
  {
   "cell_type": "markdown",
   "id": "c7935a26",
   "metadata": {},
   "source": [
    "#### Game Web Search Tool"
   ]
  },
  {
   "cell_type": "code",
   "execution_count": null,
   "id": "2ad698aa",
   "metadata": {},
   "outputs": [],
   "source": [
    "@tool\n",
    "def web_search(query: str, search_depth: str = \"advanced\") -> Dict:\n",
    "    \"\"\"\n",
    "    Search the web using Tavily API\n",
    "    args:\n",
    "        query (str): Search query\n",
    "        search_depth (str): Type of search - 'basic' or 'advanced' (default: advanced)\n",
    "    \"\"\"\n",
    "\n",
    "    # Perform the search\n",
    "    search_result = tavily_client.search(\n",
    "        query=query,\n",
    "        search_depth=search_depth,\n",
    "        include_answer=True,\n",
    "        include_raw_content=False,\n",
    "        include_images=False\n",
    "    )\n",
    "    \n",
    "    # Format the results\n",
    "    formatted_results = {\n",
    "        \"answer\": search_result.get(\"answer\", \"\"),\n",
    "        \"results\": search_result.get(\"results\", []),\n",
    "        \"search_metadata\": {\n",
    "            \"timestamp\": datetime.now().isoformat(),\n",
    "            \"query\": query\n",
    "        }\n",
    "    }\n",
    "    \n",
    "    return formatted_results "
   ]
  },
  {
   "attachments": {},
   "cell_type": "markdown",
   "id": "d423c5f4",
   "metadata": {},
   "source": [
    "#### Testing the web_search tool"
   ]
  },
  {
   "cell_type": "code",
   "execution_count": 33,
   "id": "90048654",
   "metadata": {},
   "outputs": [],
   "source": [
    "result = web_search.__call__(query = \"Who is the current president in 2025?\")"
   ]
  },
  {
   "cell_type": "code",
   "execution_count": 34,
   "id": "e74ffef9",
   "metadata": {},
   "outputs": [
    {
     "name": "stdout",
     "output_type": "stream",
     "text": [
      "{'answer': 'Donald Trump is the current president in 2025. He is the 47th president, inaugurated on January 20, 2025. His administration includes Vice President J.D. Vance.', 'results': [{'url': 'https://en.wikipedia.org/wiki/President_of_the_United_States', 'title': 'President of the United States', 'content': 'Donald Trump is the 47th and current president since January 20, 2025.', 'score': 0.8740022, 'raw_content': None}, {'url': 'https://www.usa.gov/presidents', 'title': 'Presidents, vice presidents, and first ladies | USAGov', 'content': 'Learn about the duties of president, vice president, and first lady of the United States. Find out how to contact and learn more about current and past leaders.\\n\\n## President of the United States\\n\\nThe president of the United States is the:\\n\\n### Current president\\n\\nThe 47th and current president of the United States is Donald John Trump. He was sworn into office on January 20, 2025.\\n\\n### Former U.S. presidents [...] The vice president of the United States presides over the U.S. Senate and takes over the role of president of the United States if the president is unable to perform their duties. If the vice president is not able to fulfill the duties of president, the role is passed to another leader in the order of presidential succession.\\n\\n### Current vice president\\n\\nThe 50th and current vice president of the United States is James David (JD) Vance. He was sworn in on January 20, 2025 [...] ### Former vice presidents\\n\\nRead about past presidents and vice presidents.\\n\\n## First lady\\n\\nThe First lady of the United States has traditionally been the wife or other close female relative of the president of the United States. First ladies:\\n\\n### Current first lady\\n\\nThe current first lady of the United States is Melania Trump.\\n\\n### Former first ladies\\n\\nFind a list of former first ladies and their presidential spouses.', 'score': 0.8719229, 'raw_content': None}, {'url': 'https://ballotpedia.org/Donald_Trump_presidential_administration,_2025', 'title': 'Donald Trump presidential administration, 2025', 'content': \"President Donald Trump (R) was inaugurated for his second term as the 47th president of the United States on January 20, 2025. He serves with Vice President J.D. Vance (R), a former senator from Ohio.\\n\\nThis page provides an overview of Trump's second presidential administration, including top officials and personnel and key executive and legislative actions.\\n\\nIt features the following sections:\\n\\n## Contents\\n\\n## Donald Trump's Cabinet [...] |  |  |  |  |  |  |  |  |  |\\n| --- | --- | --- | --- | --- | --- | --- | --- | --- | [...] #### Sign up to receive Ballotpedia's daily newsletter\\n\\nEmail \\\\\\n\\nFirst Name\\n\\nPlease complete the Captcha above\\n\\n#### Ballotpedia on Facebook\\n\\nShare this page\\n\\nFollow Ballotpedia\\n\\n#### Ballotpedia on Twitter\\n\\nShare this page\\n\\nFollow Ballotpedia\\n\\nBallotpedia Logo\\nBallotpedia Logo\\n\\n# Donald Trump presidential administration, 2025\", 'score': 0.7785319, 'raw_content': None}, {'url': 'https://www.federalregister.gov/presidential-documents/executive-orders/donald-trump/2025', 'title': '2025 Donald J. Trump Executive Orders', 'content': '##### EO 14147:\\n\\n##### Ending the Weaponization of the Federal Government\\n\\nSee: EO 14230, March 6, 2025; EO 14237, March 14, 2025; EO 14246, March 25, 2025; EO 14263, April 9, 2025\\n\\n###### Donald J. Trump\\n\\n###### Joseph R. Biden, Jr.\\n\\n###### Donald J. Trump\\n\\n###### Barack Obama\\n\\n###### George W. Bush\\n\\n###### William J. Clinton\\n\\n###### George H.W. Bush\\n\\n###### Ronald Reagan\\n\\n###### Jimmy Carter\\n\\n###### Gerald R. Ford\\n\\n###### Richard Nixon\\n\\n###### Lyndon B. Johnson\\n\\n###### John F. Kennedy [...] ###### Dwight D. Eisenhower\\n\\n###### Harry S. Truman\\n\\n###### Franklin D. Roosevelt\\n\\n## Home\\n\\n## Sections\\n\\n## Browse\\n\\n## Search\\n\\n## Reader Aids\\n\\n## My FR\\n\\n## Information [...] # 2025 Donald J. Trump Executive Orders view all Presidential Documents\\n\\nIn 2025, Donald J. Trump\\nsigned\\n188 Executive orders\\n(from EO 14147\\nthrough EO 14334).', 'score': 0.76427686, 'raw_content': None}, {'url': 'https://www.whitehouse.gov/administration/donald-j-trump/', 'title': 'President Donald J. Trump', 'content': 'President Donald J. Trump is returning to the White House to build upon his previous successes and use his mandate to reject the extremist policies.', 'score': 0.20788968, 'raw_content': None}], 'search_metadata': {'timestamp': '2025-08-16T23:28:34.668238', 'query': 'Who is the current president in 2025?'}}\n"
     ]
    }
   ],
   "source": [
    "print(result)"
   ]
  },
  {
   "cell_type": "markdown",
   "id": "df844b3b",
   "metadata": {},
   "source": [
    "### Agent"
   ]
  },
  {
   "cell_type": "code",
   "execution_count": 35,
   "id": "91a7d525",
   "metadata": {},
   "outputs": [],
   "source": [
    "tools = [retrieve_game, evaluate_retrieval, web_search]"
   ]
  },
  {
   "cell_type": "code",
   "execution_count": 36,
   "id": "6912f20a",
   "metadata": {},
   "outputs": [],
   "source": [
    "# Create your Agent abstraction using StateMachine\n",
    "# Equip with an appropriate model\n",
    "# Craft a good set of instructions \n",
    "# Plug all Tools you developed\n",
    "\n",
    "simple_agent = Agent(\n",
    "    model_name=\"gpt-4o\",\n",
    "    instructions=(\n",
    "            \"You are a web-aware assistant that can search for update information \"\n",
    "            \"For each query, you must use your retrieve_game tool to get relevant information from the vector database to answer the question. \"\n",
    "            \"After you receive the results of that tool, use the evaluate_retrieval tool to see if the results are sufficient to answer the question. \"\n",
    "            \"If they are deemed sufficient and useful is true, then return the answer. \"\n",
    "            \"If they are deemed insufficient and useful is false, fall back to using the web_search tool to look up the query on the internet. \"\n",
    "            \"The web search results can then be used to draft your final answer.\" \n",
    "            \"Always cite your sources and explain any discrepancies found.\\n\"\n",
    "    ),\n",
    "    tools = tools,\n",
    "    base_url=\"https://openai.vocareum.com/v1\",\n",
    "    api_key=OPENAI_API_KEY\n",
    ")"
   ]
  },
  {
   "cell_type": "code",
   "execution_count": 37,
   "id": "796f2d5f",
   "metadata": {},
   "outputs": [],
   "source": [
    "def print_messages(messages: List[BaseMessage]):\n",
    "    for m in messages:\n",
    "        print(f\" -> (role = {m.role}, content = {m.content}, tool_calls = {getattr(m, 'tool_calls', None)})\")"
   ]
  },
  {
   "cell_type": "code",
   "execution_count": 38,
   "id": "500b88bc",
   "metadata": {},
   "outputs": [
    {
     "name": "stdout",
     "output_type": "stream",
     "text": [
      "Query: When was Pokémon Gold and Silver released?\n",
      "[StateMachine] Starting: __entry__\n",
      "[StateMachine] Executing step: message_prep\n",
      "[StateMachine] Executing step: llm_processor\n",
      "[StateMachine] Executing step: tool_executor\n",
      "[StateMachine] Executing step: llm_processor\n",
      "[StateMachine] Executing step: tool_executor\n",
      "[StateMachine] Executing step: llm_processor\n",
      "[StateMachine] Terminating: __termination__\n",
      " -> (role = system, content = You are a web-aware assistant that can search for update information For each query, you must use your retrieve_game tool to get relevant information from the vector database to answer the question. After you receive the results of that tool, use the evaluate_retrieval tool to see if the results are sufficient to answer the question. If they are deemed sufficient and useful is true, then return the answer. If they are deemed insufficient and useful is false, fall back to using the web_search tool to look up the query on the internet. The web search results can then be used to draft your final answer.Always cite your sources and explain any discrepancies found.\n",
      ", tool_calls = None)\n",
      " -> (role = user, content = When was Pokémon Gold and Silver released?, tool_calls = None)\n",
      " -> (role = assistant, content = None, tool_calls = [ChatCompletionMessageToolCall(id='call_3AAINYGpS4Q9erOefgVJ3RZJ', function=Function(arguments='{\"query\":\"Pokémon Gold and Silver release date\",\"n_results\":5}', name='retrieve_game'), type='function')])\n",
      " -> (role = tool, content = \"[{'Platform': 'Game Boy Color', 'Name': 'Pok\\u00e9mon Gold and Silver', 'YearOfRelease': 1999, 'Description': 'Second-generation Pok\\u00e9mon games introducing new regions, Pok\\u00e9mon, and gameplay mechanics.'}, {'Platform': 'Game Boy Advance', 'Name': 'Pok\\u00e9mon Ruby and Sapphire', 'YearOfRelease': 2002, 'Description': 'Third-generation Pok\\u00e9mon games set in the Hoenn region, featuring new Pok\\u00e9mon and double battles.'}, {'Platform': 'Nintendo Switch', 'Name': 'Mario Kart 8 Deluxe', 'YearOfRelease': 2017, 'Description': 'An enhanced version of Mario Kart 8, featuring new characters, tracks, and improved gameplay mechanics.'}, {'Platform': 'Nintendo 64', 'Name': 'Super Mario 64', 'YearOfRelease': 1996, 'Description': \\\"A groundbreaking 3D platformer that set new standards for the genre, featuring Mario's quest to rescue Princess Peach.\\\"}, {'Platform': 'Super Nintendo Entertainment System (SNES)', 'Name': 'Super Mario World', 'YearOfRelease': 1990, 'Description': 'A classic platformer where Mario embarks on a quest to save Princess Toadstool and Dinosaur Land from Bowser.'}]\", tool_calls = None)\n",
      " -> (role = assistant, content = None, tool_calls = [ChatCompletionMessageToolCall(id='call_i63cXJnVKkoAMQP23EATVUdq', function=Function(arguments='{\"question\":\"When was Pokémon Gold and Silver released?\",\"retrieved_docs\":[\"{\\'Platform\\': \\'Game Boy Color\\', \\'Name\\': \\'Pokémon Gold and Silver\\', \\'YearOfRelease\\': 1999, \\'Description\\': \\'Second-generation Pokémon games introducing new regions, Pokémon, and gameplay mechanics.\\'}\",\"{\\'Platform\\': \\'Game Boy Advance\\', \\'Name\\': \\'Pokémon Ruby and Sapphire\\', \\'YearOfRelease\\': 2002, \\'Description\\': \\'Third-generation Pokémon games set in the Hoenn region, featuring new Pokémon and double battles.\\'}\",\"{\\'Platform\\': \\'Nintendo Switch\\', \\'Name\\': \\'Mario Kart 8 Deluxe\\', \\'YearOfRelease\\': 2017, \\'Description\\': \\'An enhanced version of Mario Kart 8, featuring new characters, tracks, and improved gameplay mechanics.\\'}\",\"{\\'Platform\\': \\'Nintendo 64\\', \\'Name\\': \\'Super Mario 64\\', \\'YearOfRelease\\': 1996, \\'Description\\': \\\\\"A groundbreaking 3D platformer that set new standards for the genre, featuring Mario\\'s quest to rescue Princess Peach.\\\\\"}\",\"{\\'Platform\\': \\'Super Nintendo Entertainment System (SNES)\\', \\'Name\\': \\'Super Mario World\\', \\'YearOfRelease\\': 1990, \\'Description\\': \\'A classic platformer where Mario embarks on a quest to save Princess Toadstool and Dinosaur Land from Bowser.\\'}\"]}', name='evaluate_retrieval'), type='function')])\n",
      " -> (role = tool, content = \"{'useful': True, 'description': \\\"The retrieved documents contain sufficient information to answer the user's query about the release date of Pok\\u00e9mon Gold and Silver. Specifically, the first document provides the necessary details: it mentions that Pok\\u00e9mon Gold and Silver were released for the Game Boy Color in 1999. This directly addresses the user's question regarding the release date of these games. \\\\n\\\\nThe other documents, while related to video games, do not pertain to Pok\\u00e9mon Gold and Silver and thus do not contribute additional relevant information to the query. However, the presence of the first document alone is adequate to provide a complete and accurate response to the user's question. Therefore, the documents are considered useful for answering the query.\\\"}\", tool_calls = None)\n",
      " -> (role = assistant, content = Pokémon Gold and Silver were released for the Game Boy Color in 1999., tool_calls = None)\n",
      "Query: Which one was the first 3D platformer Mario game?\n",
      "[StateMachine] Starting: __entry__\n",
      "[StateMachine] Executing step: message_prep\n",
      "[StateMachine] Executing step: llm_processor\n",
      "[StateMachine] Executing step: tool_executor\n",
      "[StateMachine] Executing step: llm_processor\n",
      "[StateMachine] Executing step: tool_executor\n",
      "[StateMachine] Executing step: llm_processor\n",
      "[StateMachine] Executing step: tool_executor\n",
      "[StateMachine] Executing step: llm_processor\n",
      "[StateMachine] Terminating: __termination__\n",
      " -> (role = system, content = You are a web-aware assistant that can search for update information For each query, you must use your retrieve_game tool to get relevant information from the vector database to answer the question. After you receive the results of that tool, use the evaluate_retrieval tool to see if the results are sufficient to answer the question. If they are deemed sufficient and useful is true, then return the answer. If they are deemed insufficient and useful is false, fall back to using the web_search tool to look up the query on the internet. The web search results can then be used to draft your final answer.Always cite your sources and explain any discrepancies found.\n",
      ", tool_calls = None)\n",
      " -> (role = user, content = Which one was the first 3D platformer Mario game?, tool_calls = None)\n",
      " -> (role = assistant, content = None, tool_calls = [ChatCompletionMessageToolCall(id='call_3jNQo1LH6WrkSWiuXnoggojg', function=Function(arguments='{\"query\":\"first 3D platformer Mario game\",\"n_results\":5}', name='retrieve_game'), type='function')])\n",
      " -> (role = tool, content = \"[{'Platform': 'Nintendo 64', 'Name': 'Super Mario 64', 'YearOfRelease': 1996, 'Description': \\\"A groundbreaking 3D platformer that set new standards for the genre, featuring Mario's quest to rescue Princess Peach.\\\"}, {'Platform': 'Super Nintendo Entertainment System (SNES)', 'Name': 'Super Mario World', 'YearOfRelease': 1990, 'Description': 'A classic platformer where Mario embarks on a quest to save Princess Toadstool and Dinosaur Land from Bowser.'}, {'Platform': 'Nintendo Switch', 'Name': 'Mario Kart 8 Deluxe', 'YearOfRelease': 2017, 'Description': 'An enhanced version of Mario Kart 8, featuring new characters, tracks, and improved gameplay mechanics.'}, {'Platform': 'GameCube', 'Name': 'Super Smash Bros. Melee', 'YearOfRelease': 2001, 'Description': 'A crossover fighting game featuring characters from various Nintendo franchises battling it out in dynamic arenas.'}, {'Platform': 'Game Boy Color', 'Name': 'Pok\\u00e9mon Gold and Silver', 'YearOfRelease': 1999, 'Description': 'Second-generation Pok\\u00e9mon games introducing new regions, Pok\\u00e9mon, and gameplay mechanics.'}]\", tool_calls = None)\n",
      " -> (role = assistant, content = None, tool_calls = [ChatCompletionMessageToolCall(id='call_yvfeHCVi2LxQI6BSzx0olQi6', function=Function(arguments='{\"question\":\"Which one was the first 3D platformer Mario game?\",\"retrieved_docs\":[\"A groundbreaking 3D platformer that set new standards for the genre, featuring Mario\\'s quest to rescue Princess Peach.\",\"A classic platformer where Mario embarks on a quest to save Princess Toadstool and Dinosaur Land from Bowser.\",\"An enhanced version of Mario Kart 8, featuring new characters, tracks, and improved gameplay mechanics.\",\"A crossover fighting game featuring characters from various Nintendo franchises battling it out in dynamic arenas.\",\"Second-generation Pokémon games introducing new regions, Pokémon, and gameplay mechanics.\"]}', name='evaluate_retrieval'), type='function')])\n",
      " -> (role = tool, content = \"{'useful': False, 'description': \\\"The retrieved documents do not provide a direct answer to the query about the first 3D platformer Mario game. \\\\n\\\\n1. **Document 1**: Mentions a groundbreaking 3D platformer featuring Mario, but does not specify the title or confirm it as the first 3D platformer.\\\\n2. **Document 2**: Describes a classic platformer involving Mario, but it is not specified as a 3D game, nor does it mention being the first.\\\\n3. **Document 3**: Discusses Mario Kart 8, which is a racing game, not a platformer.\\\\n4. **Document 4**: Refers to a crossover fighting game, which is unrelated to the query about a Mario platformer.\\\\n5. **Document 5**: Talks about Pok\\u00e9mon games, which are unrelated to the Mario franchise.\\\\n\\\\nNone of the documents explicitly identify 'Super Mario 64' as the first 3D platformer Mario game, which is the information needed to answer the query. Therefore, the documents are insufficient to provide a complete and accurate response.\\\"}\", tool_calls = None)\n",
      " -> (role = assistant, content = None, tool_calls = [ChatCompletionMessageToolCall(id='call_G2PVbd4VCJd7Z57wcJqGE8yh', function=Function(arguments='{\"query\":\"first 3D platformer Mario game\",\"search_depth\":\"basic\"}', name='web_search'), type='function')])\n",
      " -> (role = tool, content = \"{'answer': 'The first 3D platformer Mario game is Super Mario 64, released in 1996. It set new standards for the genre. Some argue Jumping Flash! predates it.', 'results': [{'url': 'http://spineonline.co/video-game-history/2023/9/24/e073zy5ryzvb5aafw8as8s0nnq6pab-pf2by', 'title': '3D Platform Games - Who Made Them First? - SPINE ONLINE', 'content': 'Super Mario 64, which came out in 1996, to be the first \\u201cmodern\\u201d 3D platformer. It introduced many of the mechanics that have become staples of the genre today.', 'score': 0.86108357, 'raw_content': None}, {'url': 'https://www.reddit.com/r/gaming/comments/k6wdxs/why_is_super_mario_64_known_as_the_3d_revolution/', 'title': 'Why is Super Mario 64 known as the 3D revolution in gaming when ...', 'content': 'TIL the first 3D platformer video game which was released on a home console is Jumping Flash! and predates Super Mario 64 by over a year.', 'score': 0.83452857, 'raw_content': None}, {'url': 'https://en.wikipedia.org/wiki/Super_Mario_64', 'title': 'Super Mario 64 - Wikipedia', 'content': '_**Super Mario 64**_ is a platform game developed and published by Nintendo for the Nintendo 64. Director Shigeru Miyamoto conceived a 3D _Super Mario_ game during the production of _Star Fox \\\"Star Fox (1993 video game)\\\")_ (1993). Numerous developers have cited it as an influence on 3D platform games, with its dynamic camera system and 360-degree analog control establishing a new archetype for the genre, much as _Super Mario Bros._ did for side-scrolling platform games. In the early 1990s, _Super Mario_ creator Shigeru Miyamoto conceived a 3D _Mario_ design while developing the game _Star Fox \\\"Star Fox (1993 video game)\\\")_ (1993) for the Super Nintendo Entertainment System.', 'score': 0.8173562, 'raw_content': None}, {'url': 'https://gamrconnect.vgchartz.com/thread/167485/mario-64-wasnt-the-first-true-3d-platformersony-did-it-first/2/', 'title': 'Mario 64 wasnt the first true 3D platformer...Sony did it first - VGChartz', 'content': '*   Image 16 *   Image 17 *   Image 18 *   Image 19 Forums - Gaming Discussion - Mario 64 wasnt the first true 3D platformer...Sony did it first Image 24: fordy *   Image 37Image 38 50 in One Add a total of 50 games to your collection.Image 39   Image 51: kyu23 Score your first game in your collection.Image 60   Image 74 Image 75: DevilRising Image 102: JazzB1987 Image 121 Image 122: larrysdirtydrawss Image 141: hsrob Image 160: curl-6 Image 179: Play4Fun Score your first game in your collection.Image 207   Image 240: DevilRising *   Image 244Image 245 50 in One Add a total of 50 games to your collection.Image 246   Image 271: VGChartz', 'score': 0.78611463, 'raw_content': None}, {'url': 'https://gamefaqs.gamespot.com/boards/198848-super-mario-64/66667770', 'title': 'I still wonder how Super Mario 64 was able to be such an advanced ...', 'content': 'for its time. Yes, Super Mario 64 was not the first 3D platformer. I know that. But it was the first one that was actually really good.', 'score': 0.784336, 'raw_content': None}], 'search_metadata': {'timestamp': '2025-08-16T23:28:55.707979', 'query': 'first 3D platformer Mario game'}}\", tool_calls = None)\n",
      " -> (role = assistant, content = The first 3D platformer Mario game is *Super Mario 64*, which was released in 1996 for the Nintendo 64. It set new standards for the 3D platform genre thanks to its dynamic camera system and 360-degree analog control, influencing many games that followed. Although there were earlier 3D platformers, such as *Jumping Flash!*, *Super Mario 64* is often credited with defining the modern 3D platformer experience. \n",
      "\n",
      "Sources:\n",
      "- [Wikipedia](https://en.wikipedia.org/wiki/Super_Mario_64)\n",
      "- [SPINE Online](http://spineonline.co/video-game-history/2023/9/24/e073zy5ryzvb5aafw8as8s0nnq6pab-pf2by), tool_calls = None)\n",
      "Query: Was Mortal Kombat X released for Playstation 5?\n",
      "[StateMachine] Starting: __entry__\n",
      "[StateMachine] Executing step: message_prep\n",
      "[StateMachine] Executing step: llm_processor\n",
      "[StateMachine] Executing step: tool_executor\n",
      "[StateMachine] Executing step: llm_processor\n",
      "[StateMachine] Executing step: tool_executor\n",
      "[StateMachine] Executing step: llm_processor\n",
      "[StateMachine] Terminating: __termination__\n",
      " -> (role = system, content = You are a web-aware assistant that can search for update information For each query, you must use your retrieve_game tool to get relevant information from the vector database to answer the question. After you receive the results of that tool, use the evaluate_retrieval tool to see if the results are sufficient to answer the question. If they are deemed sufficient and useful is true, then return the answer. If they are deemed insufficient and useful is false, fall back to using the web_search tool to look up the query on the internet. The web search results can then be used to draft your final answer.Always cite your sources and explain any discrepancies found.\n",
      ", tool_calls = None)\n",
      " -> (role = user, content = Was Mortal Kombat X released for Playstation 5?, tool_calls = None)\n",
      " -> (role = assistant, content = None, tool_calls = [ChatCompletionMessageToolCall(id='call_UYBbUY3DvwLhG1bB7PLc6Din', function=Function(arguments='{\"query\":\"Mortal Kombat X PlayStation 5 release\",\"n_results\":5}', name='retrieve_game'), type='function')])\n",
      " -> (role = tool, content = \"[{'Platform': 'PlayStation 5', 'Name': \\\"Marvel's Spider-Man 2\\\", 'YearOfRelease': 2023, 'Description': 'The sequel to the acclaimed Spider-Man game, featuring both Peter Parker and Miles Morales as playable characters.'}, {'Platform': 'PlayStation 4', 'Name': \\\"Marvel's Spider-Man\\\", 'YearOfRelease': 2018, 'Description': 'An open-world superhero game that lets players swing through New York City as Spider-Man, battling iconic villains.'}, {'Platform': 'Xbox Series X|S', 'Name': 'Halo Infinite', 'YearOfRelease': 2021, 'Description': \\\"The latest installment in the Halo franchise, featuring Master Chief's return in a new open-world setting.\\\"}, {'Platform': 'PlayStation 3', 'Name': 'Gran Turismo 5', 'YearOfRelease': 2010, 'Description': 'A comprehensive racing simulator featuring a vast selection of vehicles and tracks, with realistic driving physics.'}, {'Platform': 'Nintendo Switch', 'Name': 'Mario Kart 8 Deluxe', 'YearOfRelease': 2017, 'Description': 'An enhanced version of Mario Kart 8, featuring new characters, tracks, and improved gameplay mechanics.'}]\", tool_calls = None)\n",
      " -> (role = assistant, content = None, tool_calls = [ChatCompletionMessageToolCall(id='call_62gD70aDeYhYZX4k5k4wm6io', function=Function(arguments='{\"query\":\"Mortal Kombat X PlayStation 5 release\",\"search_depth\":\"advanced\"}', name='web_search'), type='function')])\n",
      " -> (role = tool, content = \"{'answer': 'Mortal Kombat X is backward compatible on PlayStation 5. It was originally released on April 14, 2015, for PlayStation 4. Some PS4 features may be absent on PS5.', 'results': [{'url': 'https://www.youtube.com/watch?v=9Dto2mjnliA', 'title': 'PlayStation 5 | Mortal Kombat X | Backwards compatible test', 'content': \\\"hey guys and girls and thank you for watching another episode of the PlayStation tester my name is Maurice today we're getting a look at Mortal Kombat X on the PlayStation 5 so this is still a PlayStation 4 game that runs backwards compatible on your PlayStation 5 so without further Ado let's just dive in first of all let's see how much data this game is and that's only 44.89 GB it's version 1.16 and um I've got it installed on my internal SSD so in terms of uh loading times it should be good [...] come on oh my [Music] goodness lack Focus ah pancakes l k wins you will not be remembered round let's see how do you do R2 and up right trigger well I've got one oh pancakes oh that's got to hurt o love it finish him here we go now he has a split personality WIS fatality oh my goodness is insane funny but insane yeah you guys this is Mortal Kombat X on the PlayStation 5 and like I said if you can get it cheap it's a lot of fun thank you for watching hope you had fun hope see you guys soon in [...] # PlayStation 5 | Mortal Kombat X | Backwards compatible test\\\\n## The PlayStation Tester\\\\n12600 subscribers\\\\n46 likes\\\\n\\\\n### Description\\\\n3854 views\\\\nPosted: 16 Oct 2023\\\\n#PlayStation5 #MortalKombat #MortalKombatX \\\\n\\\\nWelcome to my Let\\u00b4s Play and graphics test channel\\\\n\\\\nStuff i use for recording these video\\u00b4s\\\\nElgato HD60 X\\\\nSamsung Odyssee G5 1440p 144hz 32inch\\\\nPlaystation 5 digital\\\\nPS VR2\\\\n\\\\nThis channel is part of Youtube.com/c/Thexboxtester\\\\n\\\\n#PS5 #PS4 #Sony #StateOfPlay #ForThePlayers\\\", 'score': 0.756376, 'raw_content': None}, {'url': 'https://mortalkombat.fandom.com/wiki/Mortal_Kombat_X', 'title': 'Mortal Kombat X', 'content': '|  |\\\\n| --- |\\\\n| Gallery |\\\\n\\\\nMortal Kombat X is both the 10th fighting game and the 21st installment in the Mortal Kombat series. It was developed by NetherRealm Studios for PlayStation 4 and Xbox One and by High Voltage Software and later QLOC S.A. for PC. The current-generation console versions were released on April 14, 2015. [...] On June 2, 2014, the title was officially revealed as Mortal Kombat X, alongside an official reveal trailer featuring a fight between the iconic characters Scorpion and Sub-Zero. The game made its \\\"first public appearance\\\" at E3 2014 starting on June 10th, where they confirmed and announced multiple characters and stages, and also released additional information and the first ever gameplay of the game. [...] Mortal Kombat X is the first game in the Mortal Kombat series to come to PlayStation 4 and Xbox One.\\\\n  + It\\\\'s also the first game in the main series to come to Steam on the primary release date.\\\\n This game marks the first appearance/usage of variations.', 'score': 0.67988104, 'raw_content': None}, {'url': 'https://en.wikipedia.org/wiki/Mortal_Kombat_X', 'title': 'Mortal Kombat X - Wikipedia', 'content': \\\"An upgraded version of _Mortal Kombat X_, titled _Mortal Kombat XL_,( was released on March 1, 2016, for PlayStation 4 and Xbox One, including all downloadable content characters from the two released Kombat Packs, almost all bonus alternate costumes available at the time of release, improved gameplay, and improved netcode. This edition was also released for Windows on October 4, 2016. A sequel, _Mortal Kombat 11_, was released on April 23, 2019, for Nintendo Switch, PlayStation 4, Windows, and [...] _Mortal Kombat X_ was released worldwide (except Germany) for PC, PlayStation 4, and Xbox One on April 14, 2015. For reasons relating to the initial refusal by the German USK to issue the game with an age rating, the official German release of _Mortal Kombat X_ was delayed until September 1, 2015. The game's _Kollector's Edition_ includes a figurine of Scorpion and the Gold Scorpion skin, as well as future access to Kombat Pack 1.( Simultaneously with the release of Kombat Pack 2 and _Mortal [...] 2015, in select Asian countries( and was officially launched worldwide on May 4, 2015.(\\\", 'score': 0.67885995, 'raw_content': None}, {'url': 'https://www.reddit.com/r/MortalKombat/comments/15can50/mortal_kombat_x_on_ps5/', 'title': 'Mortal Kombat X on PS5? : r/MortalKombat - Reddit', 'content': '/r/MortalKombat is the OFFICIAL subreddit of Mortal Kombat 1, released in September 2023, and a grass roots kommunity-run subreddit for the Mortal Kombat franchise. r/Mortal Kombat is the biggest Mortal Kombat fan resource on the internet, covering a wide range of MK culture and a premier destination for Mortal Kombat gameplay discussion, both casual and competitive! Mortal Kombat is the iconic fighting game franchise created by NetherRealm Studios, a Warner Bros. Games studio. [...] /r/MortalKombat is the OFFICIAL subreddit of Mortal Kombat 1, released in September 2023, and a grass roots kommunity-run subreddit for the Mortal Kombat franchise. r/Mortal Kombat is the biggest Mortal Kombat fan resource on the internet, covering a wide range of MK culture and a premier destination for Mortal Kombat gameplay discussion, both casual and competitive! Mortal Kombat is the iconic fighting game franchise created by NetherRealm Studios, a Warner Bros. Games studio. [...] /r/MortalKombat is the OFFICIAL subreddit of Mortal Kombat 1, released in September 2023, and a grass roots kommunity-run subreddit for the Mortal Kombat franchise. r/Mortal Kombat is the biggest Mortal Kombat fan resource on the internet, covering a wide range of MK culture and a premier destination for Mortal Kombat gameplay discussion, both casual and competitive! Mortal Kombat is the iconic fighting game franchise created by NetherRealm Studios, a Warner Bros. Games studio.', 'score': 0.64478505, 'raw_content': None}, {'url': 'https://store.playstation.com/en-us/product/UP1018-CUSA00967_00-MORTALKOMBATX000', 'title': 'Mortal Kombat X - PlayStation Store', 'content': 'To play this game on PS5, your system may need to be updated to the latest system software. Although this game is playable on PS5, some features available on PS4 may be absent. See PlayStation.com/bc for more details.\\\\n\\\\nOnline features require an account and are subject to terms of service and applicable privacy policy (playstationnetwork.com/terms-of-service & playstationnetwork.com/privacy-policy). \\\\n\\\\nSoftware subject to license (us.playstation.com/softwarelicense). [...] Facebook\\\\n   X\\\\n   YouTube\\\\n   Instagram\\\\n   Android App\\\\n   iOS App\\\\n\\\\nImage 112: ESRB\\\\n\\\\n\\u00a9 2025 Sony Interactive Entertainment LLC\\\\n\\\\nImage 114: ESRB', 'score': 0.61972505, 'raw_content': None}], 'search_metadata': {'timestamp': '2025-08-16T23:29:04.819831', 'query': 'Mortal Kombat X PlayStation 5 release'}}\", tool_calls = None)\n",
      " -> (role = assistant, content = Mortal Kombat X was not specifically released for the PlayStation 5. It was originally launched for the PlayStation 4 on April 14, 2015. However, it is backward compatible on the PlayStation 5, meaning you can play the PS4 version on a PS5 console. Some features available on the PS4 may not be present when playing it on the PS5. \n",
      "\n",
      "For more details, you can refer to the [PlayStation Store](https://store.playstation.com/en-us/product/UP1018-CUSA00967_00-MORTALKOMBATX000) or other game resources., tool_calls = None)\n"
     ]
    }
   ],
   "source": [
    "queries = [\n",
    "    \"When was Pokémon Gold and Silver released?\",\n",
    "    \"Which one was the first 3D platformer Mario game?\",\n",
    "    \"Was Mortal Kombat X released for Playstation 5?\"\n",
    "]\n",
    "\n",
    "for i, query in enumerate(queries):\n",
    "    print(f\"Query: {query}\")\n",
    "    run = simple_agent.invoke(query, session_id = i)\n",
    "    messages = run.get_final_state()['messages']\n",
    "    print_messages(messages)\n"
   ]
  },
  {
   "attachments": {},
   "cell_type": "markdown",
   "id": "93dc35fd",
   "metadata": {},
   "source": [
    "#### Let's prove our agent kept short term memory of the session"
   ]
  },
  {
   "cell_type": "code",
   "execution_count": 39,
   "id": "41fd717c",
   "metadata": {},
   "outputs": [
    {
     "name": "stdout",
     "output_type": "stream",
     "text": [
      "Session 0:\n",
      "[StateMachine] Starting: __entry__\n",
      "[StateMachine] Executing step: message_prep\n",
      "[StateMachine] Executing step: llm_processor\n",
      "[StateMachine] Terminating: __termination__\n",
      "You asked about the release date of Pokémon Gold and Silver, and I provided the information that they were released for the Game Boy Color in 1999.\n",
      "Session 1:\n",
      "[StateMachine] Starting: __entry__\n",
      "[StateMachine] Executing step: message_prep\n",
      "[StateMachine] Executing step: llm_processor\n",
      "[StateMachine] Terminating: __termination__\n",
      "We discussed the first 3D platformer Mario game, which was identified as *Super Mario 64*, released in 1996 for the Nintendo 64. It was notable for setting new standards in the 3D platform genre with its innovative camera system and control mechanics. Although earlier games like *Jumping Flash!* were also 3D platformers, *Super Mario 64* is often credited with defining the modern experience of the genre.\n",
      "Session 2:\n",
      "[StateMachine] Starting: __entry__\n",
      "[StateMachine] Executing step: message_prep\n",
      "[StateMachine] Executing step: llm_processor\n",
      "[StateMachine] Terminating: __termination__\n",
      "We discussed whether Mortal Kombat X was released for the PlayStation 5. It was clarified that while Mortal Kombat X was not specifically released for the PS5, it is available to play on the console through backward compatibility with the PS4 version. Some features available on the PS4 may not be present on the PS5.\n"
     ]
    }
   ],
   "source": [
    "for i in range(len(queries)):\n",
    "    print(f\"Session {i}:\")\n",
    "    query = \"What have we talked about so far?\"\n",
    "    run = simple_agent.invoke(query, session_id = i)\n",
    "    print(run.get_final_state()[\"messages\"][-1].content)\n"
   ]
  }
 ],
 "metadata": {
  "kernelspec": {
   "display_name": "venv",
   "language": "python",
   "name": "python3"
  },
  "language_info": {
   "codemirror_mode": {
    "name": "ipython",
    "version": 3
   },
   "file_extension": ".py",
   "mimetype": "text/x-python",
   "name": "python",
   "nbconvert_exporter": "python",
   "pygments_lexer": "ipython3",
   "version": "3.13.0 (main, Dec  3 2024, 02:24:14) [GCC 10.2.1 20210110]"
  },
  "vscode": {
   "interpreter": {
    "hash": "23393d2575091a37cff0d0e9e7479591a295495b26c3b2ebf9b64da572e02d85"
   }
  }
 },
 "nbformat": 4,
 "nbformat_minor": 5
}
